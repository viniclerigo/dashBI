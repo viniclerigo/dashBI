{
 "cells": [
  {
   "cell_type": "code",
   "execution_count": 15,
   "id": "7e005f1f",
   "metadata": {},
   "outputs": [],
   "source": [
    "import pandas as pd"
   ]
  },
  {
   "cell_type": "code",
   "execution_count": 20,
   "id": "572ba15b",
   "metadata": {},
   "outputs": [],
   "source": [
    "teste = pd.read_json('data/vendas.json')"
   ]
  },
  {
   "cell_type": "code",
   "execution_count": 22,
   "id": "41e6260b",
   "metadata": {},
   "outputs": [],
   "source": [
    "df = teste.copy()\n",
    "df = teste.sort_values(by='data_venda', ascending=True)"
   ]
  },
  {
   "cell_type": "code",
   "execution_count": 24,
   "id": "02288a1d",
   "metadata": {},
   "outputs": [
    {
     "data": {
      "text/plain": [
       "np.int64(10000)"
      ]
     },
     "metadata": {},
     "output_type": "display_data"
    }
   ],
   "source": [
    "display(df['data_venda'].count())"
   ]
  }
 ],
 "metadata": {
  "kernelspec": {
   "display_name": "venv",
   "language": "python",
   "name": "python3"
  },
  "language_info": {
   "codemirror_mode": {
    "name": "ipython",
    "version": 3
   },
   "file_extension": ".py",
   "mimetype": "text/x-python",
   "name": "python",
   "nbconvert_exporter": "python",
   "pygments_lexer": "ipython3",
   "version": "3.11.6"
  }
 },
 "nbformat": 4,
 "nbformat_minor": 5
}
