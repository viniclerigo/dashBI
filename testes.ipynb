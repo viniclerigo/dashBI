{
 "cells": [
  {
   "cell_type": "code",
   "execution_count": null,
   "id": "9565510d",
   "metadata": {},
   "outputs": [],
   "source": [
    "import pandas as pd\n",
    "import json"
   ]
  },
  {
   "cell_type": "code",
   "execution_count": 64,
   "id": "3d0cd814",
   "metadata": {},
   "outputs": [],
   "source": [
    "df_vendas = pd.read_csv('data/vendas.csv')\n",
    "df_vendas['preco_unitario'] = df_vendas['preco_unitario'].astype(float)\n",
    "df_vendas['valor_total'] = df_vendas['valor_total'].astype(float)\n",
    "df_vendas[\"data_venda\"] = pd.to_datetime(df_vendas[\"data_venda\"])\n",
    "df_vendas[\"ano_mes\"] = df_vendas[\"data_venda\"].dt.to_period(\"M\").astype(str)"
   ]
  },
  {
   "cell_type": "code",
   "execution_count": 65,
   "id": "1f60f165",
   "metadata": {},
   "outputs": [
    {
     "name": "stdout",
     "output_type": "stream",
     "text": [
      "<class 'pandas.core.frame.DataFrame'>\n",
      "RangeIndex: 1500 entries, 0 to 1499\n",
      "Data columns (total 8 columns):\n",
      " #   Column          Non-Null Count  Dtype         \n",
      "---  ------          --------------  -----         \n",
      " 0   id_venda        1500 non-null   int64         \n",
      " 1   id_cliente      1500 non-null   int64         \n",
      " 2   id_produto      1500 non-null   int64         \n",
      " 3   quantidade      1500 non-null   int64         \n",
      " 4   data_venda      1500 non-null   datetime64[ns]\n",
      " 5   preco_unitario  1500 non-null   float64       \n",
      " 6   valor_total     1500 non-null   float64       \n",
      " 7   ano_mes         1500 non-null   object        \n",
      "dtypes: datetime64[ns](1), float64(2), int64(4), object(1)\n",
      "memory usage: 93.9+ KB\n"
     ]
    },
    {
     "data": {
      "text/plain": [
       "None"
      ]
     },
     "metadata": {},
     "output_type": "display_data"
    }
   ],
   "source": [
    "display(df_vendas.info())"
   ]
  },
  {
   "cell_type": "code",
   "execution_count": 61,
   "id": "15c33154",
   "metadata": {},
   "outputs": [],
   "source": [
    "kpis = {\n",
    "    'faturamento': round(float(df_vendas['valor_total'].sum()), 2),\n",
    "    'vendas_qtd': int(df_vendas['id_venda'].count()),\n",
    "    'tkt_med': round(float(df_vendas['valor_total'].sum()), 2) / int(df_vendas['id_venda'].count()),\n",
    "    'qtd_produtos': int(df_vendas['quantidade'].sum()),\n",
    "    'cli_unique': int(df_vendas['id_cliente'].nunique())\n",
    "}"
   ]
  },
  {
   "cell_type": "code",
   "execution_count": 66,
   "id": "7a1ada24",
   "metadata": {},
   "outputs": [],
   "source": [
    "fat_mes = df_vendas.groupby('ano_mes')['valor_total'].sum().to_dict()"
   ]
  }
 ],
 "metadata": {
  "kernelspec": {
   "display_name": "venv",
   "language": "python",
   "name": "python3"
  },
  "language_info": {
   "codemirror_mode": {
    "name": "ipython",
    "version": 3
   },
   "file_extension": ".py",
   "mimetype": "text/x-python",
   "name": "python",
   "nbconvert_exporter": "python",
   "pygments_lexer": "ipython3",
   "version": "3.11.6"
  }
 },
 "nbformat": 4,
 "nbformat_minor": 5
}
